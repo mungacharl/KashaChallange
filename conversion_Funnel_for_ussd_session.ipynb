{
  "cells": [
    {
      "metadata": {
        "trusted": true
      },
      "cell_type": "code",
      "source": "from __future__ import division\nimport plotly \nplotly.tools.set_credentials_file(username='Charlie92', api_key='Yy4FPYIxkWvMk4snmW7j')\nfrom plotly.offline import download_plotlyjs, init_notebook_mode, iplot\ninit_notebook_mode(connected=True)\nplotly.tools.set_config_file(world_readable=True,sharing='public')\nimport plotly.plotly as py\nfrom plotly import graph_objs as go\nimport pandas as pd\nfrom pandas import ExcelWriter\nfrom pandas import ExcelFile",
      "execution_count": 100,
      "outputs": [
        {
          "output_type": "display_data",
          "data": {
            "text/vnd.plotly.v1+html": "<script type=\"text/javascript\">window.PlotlyConfig = {MathJaxConfig: 'local'};</script><script type=\"text/javascript\">if (window.MathJax) {MathJax.Hub.Config({SVG: {font: \"STIX-Web\"}});}</script><script>requirejs.config({paths: { 'plotly': ['https://cdn.plot.ly/plotly-latest.min']},});if(!window._Plotly) {require(['plotly'],function(plotly) {window._Plotly=plotly;});}</script>",
            "text/html": "<script type=\"text/javascript\">window.PlotlyConfig = {MathJaxConfig: 'local'};</script><script type=\"text/javascript\">if (window.MathJax) {MathJax.Hub.Config({SVG: {font: \"STIX-Web\"}});}</script><script>requirejs.config({paths: { 'plotly': ['https://cdn.plot.ly/plotly-latest.min']},});if(!window._Plotly) {require(['plotly'],function(plotly) {window._Plotly=plotly;});}</script>"
          },
          "metadata": {}
        }
      ]
    },
    {
      "metadata": {
        "trusted": true
      },
      "cell_type": "code",
      "source": "ussd_data = pd.read_excel('ussd-sessions-data.xlsx', sheet_name='ad_hoc-query_12-2e9d2daa1039-20')\n \nprint(\"Column headings:\")\nprint(ussd_data.columns)",
      "execution_count": 101,
      "outputs": [
        {
          "output_type": "stream",
          "text": "Column headings:\nIndex(['id', 'phone_number', 'sessionid', 'newrequest', 'input', 'slug',\n       'options', 'created_at'],\n      dtype='object')\n",
          "name": "stdout"
        }
      ]
    },
    {
      "metadata": {
        "trusted": true
      },
      "cell_type": "code",
      "source": "ussd_data.head()",
      "execution_count": 102,
      "outputs": [
        {
          "output_type": "execute_result",
          "execution_count": 102,
          "data": {
            "text/html": "<div>\n<style scoped>\n    .dataframe tbody tr th:only-of-type {\n        vertical-align: middle;\n    }\n\n    .dataframe tbody tr th {\n        vertical-align: top;\n    }\n\n    .dataframe thead th {\n        text-align: right;\n    }\n</style>\n<table border=\"1\" class=\"dataframe\">\n  <thead>\n    <tr style=\"text-align: right;\">\n      <th></th>\n      <th>id</th>\n      <th>phone_number</th>\n      <th>sessionid</th>\n      <th>newrequest</th>\n      <th>input</th>\n      <th>slug</th>\n      <th>options</th>\n      <th>created_at</th>\n    </tr>\n  </thead>\n  <tbody>\n    <tr>\n      <th>0</th>\n      <td>1</td>\n      <td>251953337471</td>\n      <td>153173803044242</td>\n      <td>1</td>\n      <td>911</td>\n      <td>initial-request</td>\n      <td>[{\"exists\":true,\"id\":\"1\",\"name\":\"Kotegisi\",\"ex...</td>\n      <td>2018-07-16 10:47:11</td>\n    </tr>\n    <tr>\n      <th>1</th>\n      <td>2</td>\n      <td>251953337471</td>\n      <td>153173803044242</td>\n      <td>0</td>\n      <td>Kigali</td>\n      <td>ussd-address</td>\n      <td>NaN</td>\n      <td>2018-07-16 10:47:15</td>\n    </tr>\n    <tr>\n      <th>2</th>\n      <td>3</td>\n      <td>251953337471</td>\n      <td>1531738051111374.back</td>\n      <td>1</td>\n      <td>911</td>\n      <td>initial-request</td>\n      <td>[{\"exists\":true,\"id\":\"69\",\"name\":\"Gahanga\",\"ex...</td>\n      <td>2018-07-16 10:47:32</td>\n    </tr>\n    <tr>\n      <th>3</th>\n      <td>4</td>\n      <td>251953337471</td>\n      <td>1531738051111374.back</td>\n      <td>1</td>\n      <td>NaN</td>\n      <td>ussd-address</td>\n      <td>NaN</td>\n      <td>2018-07-16 10:47:32</td>\n    </tr>\n    <tr>\n      <th>4</th>\n      <td>5</td>\n      <td>251953337471</td>\n      <td>1531738051111374.back</td>\n      <td>0</td>\n      <td>Rusororo</td>\n      <td>ussd-address</td>\n      <td>NaN</td>\n      <td>2018-07-16 10:47:40</td>\n    </tr>\n  </tbody>\n</table>\n</div>",
            "text/plain": "   id  phone_number              sessionid  newrequest     input  \\\n0   1  251953337471        153173803044242           1       911   \n1   2  251953337471        153173803044242           0    Kigali   \n2   3  251953337471  1531738051111374.back           1       911   \n3   4  251953337471  1531738051111374.back           1       NaN   \n4   5  251953337471  1531738051111374.back           0  Rusororo   \n\n              slug                                            options  \\\n0  initial-request  [{\"exists\":true,\"id\":\"1\",\"name\":\"Kotegisi\",\"ex...   \n1     ussd-address                                                NaN   \n2  initial-request  [{\"exists\":true,\"id\":\"69\",\"name\":\"Gahanga\",\"ex...   \n3     ussd-address                                                NaN   \n4     ussd-address                                                NaN   \n\n           created_at  \n0 2018-07-16 10:47:11  \n1 2018-07-16 10:47:15  \n2 2018-07-16 10:47:32  \n3 2018-07-16 10:47:32  \n4 2018-07-16 10:47:40  "
          },
          "metadata": {}
        }
      ]
    },
    {
      "metadata": {
        "trusted": true
      },
      "cell_type": "code",
      "source": "ussd_data.dtypes",
      "execution_count": 103,
      "outputs": [
        {
          "output_type": "execute_result",
          "execution_count": 103,
          "data": {
            "text/plain": "id                       int64\nphone_number             int64\nsessionid               object\nnewrequest               int64\ninput                   object\nslug                    object\noptions                 object\ncreated_at      datetime64[ns]\ndtype: object"
          },
          "metadata": {}
        }
      ]
    },
    {
      "metadata": {
        "trusted": true
      },
      "cell_type": "code",
      "source": "ussd_data['options'].describe()",
      "execution_count": 104,
      "outputs": [
        {
          "output_type": "execute_result",
          "execution_count": 104,
          "data": {
            "text/plain": "count                                                  1295\nunique                                                   99\ntop       [{\"exists\":true,\"id\":\"50\",\"name\":\"Kigali\",\"ext...\nfreq                                                    197\nName: options, dtype: object"
          },
          "metadata": {}
        }
      ]
    },
    {
      "metadata": {
        "trusted": true
      },
      "cell_type": "code",
      "source": "ussd_data['slug'].describe()",
      "execution_count": 105,
      "outputs": [
        {
          "output_type": "execute_result",
          "execution_count": 105,
          "data": {
            "text/plain": "count                2000\nunique                 10\ntop       initial-request\nfreq                  647\nName: slug, dtype: object"
          },
          "metadata": {}
        }
      ]
    },
    {
      "metadata": {
        "trusted": true
      },
      "cell_type": "code",
      "source": "phases=ussd_data['slug'].unique().tolist()\nvalues=ussd_data['slug'].value_counts().tolist()\nprint(phases)\nprint(values)",
      "execution_count": 106,
      "outputs": [
        {
          "output_type": "stream",
          "text": "['initial-request', 'ussd-address', 'selected-category', 'selected-product', 'selected-subscription', 'entered-quantity', 'entered-shipping-method', 'entered-coupon', 'on-demand-payment', 'order-confirmed']\n[647, 615, 238, 135, 95, 94, 93, 47, 34, 2]\n",
          "name": "stdout"
        }
      ]
    },
    {
      "metadata": {
        "trusted": true
      },
      "cell_type": "code",
      "source": "",
      "execution_count": null,
      "outputs": []
    },
    {
      "metadata": {
        "trusted": true
      },
      "cell_type": "code",
      "source": "colors = ['rgb(32,155,160)', 'rgb(253,93,124)', 'rgb(28,119,139)', 'rgb(182,231,235)', 'rgb(35,154,160)','rgb(32,155,160)', 'rgb(253,93,124)', 'rgb(28,119,139)', 'rgb(182,231,235)', 'rgb(35,154,160)']",
      "execution_count": 107,
      "outputs": []
    },
    {
      "metadata": {
        "trusted": true
      },
      "cell_type": "code",
      "source": "n_phase = len(phases)\nplot_width = 400\n\n# height of a section and difference between sections \nsection_h = 100\nsection_d = 10\n\n# multiplication factor to calculate the width of other sections\nunit_width = plot_width / max(values)\n\n# width of each funnel section relative to the plot width\nphase_w = [int(value * unit_width) for value in values]\n\n# plot height based on the number of sections and the gap in between them\nheight = section_h * n_phase + section_d * (n_phase - 1)",
      "execution_count": 108,
      "outputs": []
    },
    {
      "metadata": {
        "trusted": true
      },
      "cell_type": "code",
      "source": "# list containing all the plot shapes\nshapes = []\n\n# list containing the Y-axis location for each section's name and value text\nlabel_y = []\n\nfor i in range(n_phase):\n        if (i == n_phase-1):\n                points = [phase_w[i] / 2, height, phase_w[i] / 2, height - section_h]\n        else:\n                points = [phase_w[i] / 2, height, phase_w[i+1] / 2, height - section_h]\n\n        path = 'M {0} {1} L {2} {3} L -{2} {3} L -{0} {1} Z'.format(*points)\n\n        shape = {\n                'type': 'path',\n                'path': path,\n                'fillcolor': colors[i],\n                'line': {\n                    'width': 1,\n                    'color': colors[i]\n                }\n        }\n        shapes.append(shape)\n        \n        # Y-axis location for this section's details (text)\n        label_y.append(height - (section_h / 2))\n\n        height = height - (section_h + section_d)",
      "execution_count": 109,
      "outputs": []
    },
    {
      "metadata": {
        "trusted": true
      },
      "cell_type": "code",
      "source": "# For phase names\nlabel_trace = go.Scatter(\n    x=[-350]*n_phase,\n    y=label_y,\n    mode='text',\n    text=phases,\n    textfont=dict(\n        color='rgb(200,200,200)',\n        size=15  \n    )\n)\n \n# For phase values\nvalue_trace = go.Scatter(\n    x=[350]*n_phase,\n    y=label_y,\n    mode='text',\n    text=values,\n    textfont=dict(\n        color='rgb(200,200,200)',\n        size=15\n    )\n)\n\ndata = [label_trace, value_trace]\n \nlayout = go.Layout(\n    title=\"<b>CONVERSION FUNNEL</b>\",\n    titlefont=dict(\n        size=20,\n        color='rgb(203,203,203)'\n    ),\n    shapes=shapes,\n    height=560,\n    width=1000,\n    showlegend=False,\n    paper_bgcolor='rgba(44,58,71,1)',\n    plot_bgcolor='rgba(44,58,71,1)',\n    xaxis=dict(\n        showticklabels=False,\n        zeroline=False,\n    ),\n    yaxis=dict(\n        showticklabels=False,\n        zeroline=False\n    )\n)\n \n",
      "execution_count": 110,
      "outputs": []
    },
    {
      "metadata": {
        "trusted": true,
        "scrolled": true
      },
      "cell_type": "code",
      "source": "fig = go.Figure(data=data, layout=layout)\npy.iplot(fig)",
      "execution_count": 111,
      "outputs": [
        {
          "output_type": "execute_result",
          "execution_count": 111,
          "data": {
            "text/html": "<iframe id=\"igraph\" scrolling=\"no\" style=\"border:none;\" seamless=\"seamless\" src=\"https://plot.ly/~charlie92/20.embed\" height=\"560px\" width=\"1000px\"></iframe>",
            "text/plain": "<plotly.tools.PlotlyDisplay object>"
          },
          "metadata": {}
        }
      ]
    },
    {
      "metadata": {
        "trusted": true
      },
      "cell_type": "code",
      "source": "",
      "execution_count": null,
      "outputs": []
    }
  ],
  "metadata": {
    "kernelspec": {
      "name": "python36",
      "display_name": "Python 3.6",
      "language": "python"
    },
    "language_info": {
      "mimetype": "text/x-python",
      "nbconvert_exporter": "python",
      "name": "python",
      "pygments_lexer": "ipython3",
      "version": "3.6.6",
      "file_extension": ".py",
      "codemirror_mode": {
        "version": 3,
        "name": "ipython"
      }
    }
  },
  "nbformat": 4,
  "nbformat_minor": 1
}